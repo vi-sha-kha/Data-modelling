{
 "cells": [
  {
   "cell_type": "code",
   "execution_count": 36,
   "metadata": {},
   "outputs": [
    {
     "name": "stdout",
     "output_type": "stream",
     "text": [
      "Requirement already satisfied: psycopg2 in /Library/Frameworks/Python.framework/Versions/3.12/lib/python3.12/site-packages (2.9.9)\n",
      "Note: you may need to restart the kernel to use updated packages.\n"
     ]
    }
   ],
   "source": [
    "%pip install psycopg2"
   ]
  },
  {
   "cell_type": "code",
   "execution_count": 37,
   "metadata": {},
   "outputs": [],
   "source": [
    "import psycopg2 as ps"
   ]
  },
  {
   "cell_type": "code",
   "execution_count": 38,
   "metadata": {},
   "outputs": [
    {
     "name": "stdout",
     "output_type": "stream",
     "text": [
      "<connection object at 0x1033f1d20; dsn: 'user=postgres password=xxx dbname=postgres host=localhost port=5432', closed: 0>\n"
     ]
    }
   ],
   "source": [
    "try:\n",
    "    conn=ps.connect(dbname=\"postgres\",\n",
    "\n",
    "               user=\"postgres\",password= \"\",host=\"localhost\",\n",
    "\n",
    "                port=\"5432\")\n",
    "    print(conn)\n",
    "    \n",
    "except ps.Error as e:\n",
    "    print(\"Error: Could not make connection to the postgres database\")\n",
    "    print(e)"
   ]
  },
  {
   "cell_type": "code",
   "execution_count": 39,
   "metadata": {},
   "outputs": [],
   "source": [
    "try:\n",
    "    cur=conn.cursor()\n",
    "except ps.Error as e:\n",
    "    print(\"Error:Couldn't create cursor to the Database\")\n",
    "    print(e)"
   ]
  },
  {
   "cell_type": "code",
   "execution_count": 40,
   "metadata": {},
   "outputs": [],
   "source": [
    "conn.set_session(autocommit=True)"
   ]
  },
  {
   "cell_type": "code",
   "execution_count": 41,
   "metadata": {},
   "outputs": [
    {
     "name": "stdout",
     "output_type": "stream",
     "text": [
      "database \"first_data_proj\" already exists\n",
      "\n"
     ]
    }
   ],
   "source": [
    "try:\n",
    "    cur.execute(\"Create database first_data_proj\")\n",
    "except ps.Error as e:\n",
    "    print(e)"
   ]
  },
  {
   "cell_type": "code",
   "execution_count": 42,
   "metadata": {},
   "outputs": [],
   "source": [
    "try:\n",
    "    conn.close()\n",
    "except ps.Error as e:\n",
    "    print(e)\n",
    "\n",
    "try:\n",
    "    conn=ps.connect(dbname=\"first_data_proj\",\n",
    "\n",
    "               user=\"postgres\",password= \"\",host=\"localhost\",\n",
    "\n",
    "                port=\"5432\")\n",
    "except ps.Error as e:\n",
    "    print(e)\n",
    "\n",
    "try:\n",
    "    cur=conn.cursor()\n",
    "except ps.Error as e:\n",
    "    print(e)\n",
    "\n",
    "conn.set_session(autocommit=True)"
   ]
  },
  {
   "cell_type": "code",
   "execution_count": 43,
   "metadata": {},
   "outputs": [],
   "source": [
    "try:\n",
    "    cur.execute(\"CREATE TABLE IF NOT EXISTS students (student_id int, name varchar, age int, gender varchar, subject varchar, marks int)\")\n",
    "except ps.Error as e:\n",
    "    print(\"Error: Couldn't creating table\")\n",
    "    print(e)"
   ]
  },
  {
   "cell_type": "code",
   "execution_count": 77,
   "metadata": {},
   "outputs": [],
   "source": [
    "try:\n",
    "    cur.execute(\"INSERT INTO students (student_id, name, age, gender, subject, marks) \\\n",
    "VALUES (%s, %s, %s, %s, %s, %s)\", \\\n",
    "(1, \"Raj\", 23, \"Male\", \"Python\", 85))\n",
    "\n",
    "except ps. Error as e:\n",
    "    print(\"Error: Inserting Rows\")\n",
    "    print (e)  \n",
    "\n",
    "try:\n",
    "    cur.execute(\"INSERT INTO students (student_id, name, age, gender, subject, marks) \\\n",
    "VALUES (%s, %s, %s, %s, %s, %s)\", \\\n",
    "(2, \"Riya\", 23, \"Female\", \"Python\", 95))\n",
    "\n",
    "except ps. Error as e:\n",
    "    print(\"Error: Inserting Rows\")\n",
    "    print (e)  "
   ]
  },
  {
   "cell_type": "code",
   "execution_count": 78,
   "metadata": {},
   "outputs": [
    {
     "name": "stdout",
     "output_type": "stream",
     "text": [
      "(2, 'Priya', 22, 'Female', 'Python', 86)\n",
      "(1, 'Raj', 23, 'Male', 'Python', 85)\n",
      "(1, 'Raj', 23, 'Male', 'Python', 85)\n",
      "(2, 'Vish', 20, 'Female', 'Data', 90)\n",
      "(1, 'Raj', 23, 'Male', 'Python', 85)\n",
      "(1, 'Raj', 23, 'Male', 'Python', 85)\n",
      "(1, 'Raj', 23, 'Male', 'Python', 85)\n",
      "(1, 'Raj', 23, 'Male', 'Python', 85)\n",
      "(1, 'Riya', 23, 'Female', 'Python', 95)\n",
      "(1, 'Raj', 23, 'Male', 'Python', 85)\n",
      "(2, 'Riya', 23, 'Female', 'Python', 95)\n"
     ]
    }
   ],
   "source": [
    "try:\n",
    "    cur.execute(\"SELECT * FROM students;\")\n",
    "except ps.Error as e:\n",
    "    print(e)\n",
    "\n",
    "row=cur.fetchone()\n",
    "while row:\n",
    "    print (row)\n",
    "    row = cur.fetchone()\n",
    "\n"
   ]
  },
  {
   "cell_type": "code",
   "execution_count": 79,
   "metadata": {},
   "outputs": [],
   "source": [
    "cur.close()\n",
    "conn.close()"
   ]
  },
  {
   "cell_type": "code",
   "execution_count": null,
   "metadata": {},
   "outputs": [],
   "source": []
  }
 ],
 "metadata": {
  "kernelspec": {
   "display_name": "Python 3",
   "language": "python",
   "name": "python3"
  },
  "language_info": {
   "codemirror_mode": {
    "name": "ipython",
    "version": 3
   },
   "file_extension": ".py",
   "mimetype": "text/x-python",
   "name": "python",
   "nbconvert_exporter": "python",
   "pygments_lexer": "ipython3",
   "version": "3.12.0"
  },
  "orig_nbformat": 4
 },
 "nbformat": 4,
 "nbformat_minor": 2
}
